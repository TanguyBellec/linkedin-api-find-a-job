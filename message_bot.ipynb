{
 "cells": [
  {
   "cell_type": "markdown",
   "id": "45cbe46b",
   "metadata": {},
   "source": [
    "# Read Me\n",
    "\n",
    "This project uses linkedin to send automatic messages in order to find a job faster\n",
    "\n",
    "### Goals of the project\n",
    "- Finding recruiters and people working in the industry i want and send them appropriate messages (adding the possibility to schedule a meeting with me on my personnal calendar ?\n",
    "- Apply to the positions that fits my criteria (only working for simplified job apply imo)\n",
    "\n",
    "\n",
    "### TODO\n",
    "- Find optimal recruiter, find out how the localization filter works\n",
    "- Work on finding optimal job post to send message to the recruiter from the job post\n",
    "\n",
    "\n",
    "### pipeline to dm recruiters from job post\n",
    "- get list of job throught the job search bar from linkedin (still can optimize this throught better keywords and location not working atm)\n",
    "- iterate throught each job, if there is a recruiter who writed the job post, get it's id from selenium scrap\n",
    "- send a connection invite proposing to have a quick chat about the role (add few keywords ?)\n",
    "- connect the response to a collab excel to save the info\n"
   ]
  },
  {
   "cell_type": "code",
   "execution_count": 287,
   "id": "9c24fe0b",
   "metadata": {},
   "outputs": [],
   "source": [
    "from linkedin_api import Linkedin\n",
    "from linkedin_api.utils.helpers import get_id_from_urn"
   ]
  },
  {
   "cell_type": "code",
   "execution_count": 194,
   "id": "802c15b2",
   "metadata": {},
   "outputs": [],
   "source": [
    "def open_file(filepath:str)-> str:\n",
    "    '''Opens and reads a file'''\n",
    "    with open(filepath, 'r', encoding='utf-8') as infile:\n",
    "        return infile.read()\n",
    "    \n",
    "    \n",
    "def get_credential(path):\n",
    "    raw_data = open_file(path)\n",
    "    data = raw_data.split(\",\")\n",
    "    return [data[0][2:-1], data[1][1:-2]]\n",
    "\n",
    "    "
   ]
  },
  {
   "cell_type": "code",
   "execution_count": 198,
   "id": "08555cab",
   "metadata": {},
   "outputs": [],
   "source": [
    "# Authenticate using any Linkedin account credentials\n",
    "\n",
    "\n",
    "test_credential = get_credential('test_credential.txt')\n",
    "true_credential = get_credential('linkedin_username.txt')\n",
    "\n",
    "test_api = Linkedin(test_credential[0], test_credential[0])\n",
    "real_api = Linkedin(true_credential[0], true_credential[0])\n",
    "\n",
    "\n",
    "# GET a profile\n",
    "#profile = api.get_profile('billy-g')\n",
    "\n",
    "# GET a profiles contact info\n",
    "#contact_info = api.get_profile_contact_info('billy-g')\n",
    "\n",
    "# GET 1st degree connections of a given profile    USE URN ID\n",
    "#connections = api.get_profile_connections('1234asc12304')\n"
   ]
  },
  {
   "cell_type": "markdown",
   "id": "f8c5f6f8",
   "metadata": {},
   "source": [
    "# First part : finding recruiters and sending them invite with personnal messages\n",
    "\n",
    "- First dichotomy, from their summary we try to define if they are in the quant finance or in the tech sector to send the more accurate message\n",
    "\n",
    "- Second one, if they are based in France we send our message in French\n",
    "\n",
    "- To get better results we could developp a rating on how much we would be interested in each profile"
   ]
  },
  {
   "cell_type": "code",
   "execution_count": 104,
   "id": "0fdb0c35",
   "metadata": {},
   "outputs": [],
   "source": [
    "#message_data = \"I'm a graduate from an MSc in Statistics from Université PSL in Paris, \" \\\n",
    "#    + \"after a year of experience as a Data Scientist, I am looking for\" \\\n",
    "#    + \"a new opportunity in this sector.\"   \n",
    "\n",
    "#message_quant = \"I'm a graduate from an MSc in Statistics and Quantitative Finance from Université \" \\\n",
    "#    + \"PSL in Paris, after a year of experience as a Data Scientist, I am now looking to\" \\\n",
    "#    + \"work as a Quant.\"  \n",
    "\n",
    "\n",
    "message_quant = \"graduate from an MSc in Statistics and Quantitative Finance. An experience as a data scientist, looking for an opportunity as a quant\"\n",
    "message_data = \"graduate from an MSc in Statistics. An experience as a data scientist, looking for a new opportunity, data-driven.\"\n",
    "    \n",
    "end_of_message = \"Feel free to contact me if you see a possible fit !\"\n",
    "\n",
    "\n",
    "data_recruiter = 0\n",
    "quant_recruiter = 0\n",
    "na_recruiter = 0\n",
    "\n",
    "connections = []\n",
    "\n"
   ]
  },
  {
   "cell_type": "code",
   "execution_count": 159,
   "id": "f43d1a28",
   "metadata": {},
   "outputs": [],
   "source": [
    "def is_profile_data_or_finance(profile, data_keywords = ['tech','data','engineer', 'analyst', 'analytics'] , quant_finance_keywords = ['quantitative', 'finance', 'fintech', 'financial', 'hft', 'hedge', 'asset']):\n",
    "    \n",
    "    count_data = 0\n",
    "    count_quant = 0\n",
    "    \n",
    "    # Some recruiters don't have a summary, in this case we take the title\n",
    "    try:\n",
    "        summary = profile['summary'].lower()\n",
    "\n",
    "    except KeyError:\n",
    "        summary = profile['headline'].lower()\n",
    "        \n",
    "    summary = summary.split(\" \")\n",
    "    \n",
    "    for word in summary:\n",
    "        \n",
    "        if(word in data_keywords):\n",
    "            count_data += 1\n",
    "            \n",
    "        if(word in quant_finance_keywords):\n",
    "            count_quant += 1\n",
    "            \n",
    "    if(count_quant > count_data):\n",
    "        return 'finance'\n",
    "    \n",
    "    if(count_data > 0):\n",
    "        return 'data'\n",
    "    \n",
    "    return 'NA'\n",
    "\n",
    "\n",
    "def is_profile_fetched_french(profile, france_keywords = ['france', 'paris', 'île-de-france']):\n",
    "    \n",
    "    try:\n",
    "        location = profile['location'].lower()\n",
    "        \n",
    "    except KeyError:\n",
    "        return False\n",
    "    \n",
    "    for keyword in france_keywords:\n",
    "        if(keyword in location):\n",
    "            return True\n",
    "    \n",
    "    return False\n",
    "\n",
    "\n",
    "def get_first_name_fetched_profile(profile):\n",
    "    \n",
    "    try:\n",
    "        first_name = profile['name'].split(\" \")[0]\n",
    "    \n",
    "    except:\n",
    "        return False\n",
    "    return first_name\n",
    "\n",
    "\n",
    "\n",
    "def add_easy_personnalized_connection(current_recruiter, api, message_quant = message_quant,\n",
    "                                 message_data = message_data, end_of_message = end_of_message):\n",
    "\n",
    "    message = \"\"\n",
    "\n",
    "    first_name = get_first_name_fetched_profile(current_recruiter)\n",
    "    is_french = is_profile_fetched_french(current_recruiter)\n",
    "    current_profile = api.get_profile(current_recruiter['public_id'])\n",
    "    sector = is_profile_data_or_finance(current_profile)\n",
    "\n",
    "\n",
    "    if(sector == 'finance'):\n",
    "        message = \"Hello \" + first_name + \"\\n\" + message_quant + \"\\n\" + end_of_message\n",
    "\n",
    "    elif(sector == 'data'):\n",
    "        message = \"Hello \" + first_name + \"\\n\" + message_data + \"\\n\" + end_of_message\n",
    "\n",
    "    else:  \n",
    "        return \"na_recruiter\"\n",
    "\n",
    "    connection = api.add_connection(current_recruiter['public_id'], message)\n",
    "    \n",
    "    return [sector, connection]\n",
    "\n",
    "\n",
    "\n",
    "\n",
    "\n",
    "\n",
    "\n",
    "def get_gpt_message(generic_message, profile, first_name):\n",
    "        \n",
    "    discussion = [\n",
    "        {\"role\": \"system\", \"content\": \"You adapt a generic message to a personnalized message asking for a connection on linkedin to headhunters.\"},\n",
    "        {\"role\": \"user\", \"content\": f\"Here is the generic message : <<{generic_message}>>\"},\n",
    "        {\"role\": \"assistant\", \"content\": \"What is the summary from the headhunter?\"},\n",
    "        {\"role\": \"user\", \"content\": f\"Here is the summary from his profile : <<{profile['summary']}>>\"},\n",
    "        {\"role\": \"assistant\", \"content\": \"What is the first name?\"},\n",
    "        {\"role\": \"user\", \"content\": f\"the first name is {first_name}\"},\n",
    "        {\"role\": \"assistant\", \"content\": \"What is the expected output lenght?\"},        \n",
    "        {\"role\": \"user\", \"content\": \"IMPORTANT: No more than 300 character for the total of the message.\"},\n",
    "        {\"role\": \"assistant\", \"content\": \"What is the expected content?\"}, \n",
    "    ]\n",
    "\n",
    "\n",
    "    message_prompt = \"Talk directly to the headhunter not to the user. Greet him by the name given, say that from my experience and qualification we could be a good fit. Do it now.\"\n",
    "    answer, discussion = gpt3_chat(message=message_prompt, messages=discussion)\n",
    "    \n",
    "    return answer\n",
    "\n",
    "\n",
    "\n",
    "def add_gpt_personnalized_connection(current_recruiter, api, message_quant = message_quant,\n",
    "                                 message_data = message_data, end_of_message = end_of_message):\n",
    "\n",
    "    \n",
    "    #first_name = get_first_name_fetched_profile(current_recruiter)   sometimes gives false idk why\n",
    "    first_name = current_recruiter['name'].split(\" \")[0]\n",
    "    is_french = is_profile_fetched_french(current_recruiter)\n",
    "    current_profile = api.get_profile(current_recruiter['public_id'])\n",
    "    sector = is_profile_data_or_finance(current_profile)\n",
    "\n",
    "\n",
    "    if(sector == 'finance'):\n",
    "        generic_message = message_quant\n",
    "\n",
    "    else:\n",
    "        generic_message = message_data\n",
    "\n",
    "    #else:  \n",
    "    #    return \"na_recruiter\"\n",
    "    \n",
    "    personnalized_message = get_gpt_message(generic_message, current_profile, first_name)\n",
    "    final_message = personnalized_message\n",
    "    #final_message = \"Hello \" + first_name + \"\\n\" + personnalized_message\n",
    "    \n",
    "    if(len(final_message) >299):\n",
    "        final_message = final_message[0:300] \n",
    "    \n",
    "    \n",
    "    print(final_message)\n",
    "\n",
    "    connection = api.add_connection(current_recruiter['public_id'], final_message)\n",
    "    \n",
    "    return [sector, connection]\n",
    "\n"
   ]
  },
  {
   "cell_type": "code",
   "execution_count": 388,
   "id": "8bf88c13",
   "metadata": {},
   "outputs": [
    {
     "data": {
      "text/plain": [
       "{'urn_id': 'ACoAAC5n-qsBW3UrI0fzn07ycT3a1sLiGAwwsPw',\n",
       " 'distance': 'OUT_OF_NETWORK',\n",
       " 'public_id': 'sajsanthirakumar',\n",
       " 'tracking_id': '778566315',\n",
       " 'jobtitle': 'Recruiter - Quantitative Trading and Technology',\n",
       " 'location': 'London, England, United Kingdom',\n",
       " 'name': 'Sajeevan Santhirakumar'}"
      ]
     },
     "execution_count": 388,
     "metadata": {},
     "output_type": "execute_result"
    }
   ],
   "source": [
    "#profile['name'].split(\" \")[0]\n",
    "search_quant[0]"
   ]
  },
  {
   "cell_type": "code",
   "execution_count": 144,
   "id": "05ec7f40",
   "metadata": {},
   "outputs": [
    {
     "data": {
      "text/plain": [
       "'Sajeevan'"
      ]
     },
     "execution_count": 144,
     "metadata": {},
     "output_type": "execute_result"
    }
   ],
   "source": [
    "get_first_name_fetched_profile(search_quant[0])"
   ]
  },
  {
   "cell_type": "code",
   "execution_count": 145,
   "id": "06338ea3",
   "metadata": {},
   "outputs": [
    {
     "data": {
      "text/plain": [
       "{'urn_id': 'ACoAAC5n-qsBW3UrI0fzn07ycT3a1sLiGAwwsPw',\n",
       " 'distance': 'OUT_OF_NETWORK',\n",
       " 'public_id': 'sajsanthirakumar',\n",
       " 'tracking_id': '778566315',\n",
       " 'jobtitle': 'Recruiter - Quantitative Trading and Technology',\n",
       " 'location': 'London, England, United Kingdom',\n",
       " 'name': 'Sajeevan Santhirakumar'}"
      ]
     },
     "execution_count": 145,
     "metadata": {},
     "output_type": "execute_result"
    }
   ],
   "source": [
    "search_quant[0]"
   ]
  },
  {
   "cell_type": "code",
   "execution_count": 63,
   "id": "39fb794f",
   "metadata": {},
   "outputs": [],
   "source": [
    "search_quant = test_api.search_people(keywords = 'quantitative finance', keyword_title = 'recruiter')"
   ]
  },
  {
   "cell_type": "code",
   "execution_count": 122,
   "id": "2af75a44",
   "metadata": {},
   "outputs": [],
   "source": [
    "test_search = test_api.search_people(keywords = 'tech AI', keyword_title = 'recruiter')"
   ]
  },
  {
   "cell_type": "code",
   "execution_count": 156,
   "id": "97510577",
   "metadata": {
    "scrolled": true
   },
   "outputs": [
    {
     "name": "stdout",
     "output_type": "stream",
     "text": [
      "{'urn_id': 'ACoAAAFVct0Bx3XxMCvcyEup2cciHqOjrwfOsGA', 'distance': 'OUT_OF_NETWORK', 'public_id': 'paul-kaplan-9115b17', 'tracking_id': '22377181', 'jobtitle': 'President/ Sr Technical/ Quantitative/ Strategist Recruiter at Fusion Technologies', 'location': 'United States', 'name': 'Paul Kaplan'}\n",
      "key error\n",
      "{'urn_id': 'ACoAACa5WQ0Baredws_LatUNpSZlBQ4TbCk8DPc', 'distance': 'DISTANCE_3', 'public_id': 'asma-fedaili-a916b0161', 'tracking_id': '649681165', 'jobtitle': 'EMEA Tech Recruiter at NielsenIQ', 'location': 'Greater Barcelona Metropolitan Area', 'name': 'ASMA FEDAILI'}\n",
      "key error\n",
      "{'urn_id': 'ACoAAADDECsBREusf8h97LyAEfvRtwWj7ejqEGk', 'distance': 'OUT_OF_NETWORK', 'public_id': 'lizawyatt', 'tracking_id': '12783659', 'jobtitle': 'Recruiter Lead EMEA', 'location': 'Hoofddorp, North Holland, Netherlands', 'name': 'Liza Wyatt'}\n",
      "Sure, here is the personalized message for you:\n",
      "\n",
      "Hi Liza, \n",
      "I came across your profile and found your recruiting expertise very impressive. As a proactive data scientist, I am looking for new opportunities in the field of talent development and I would love to connect on LinkedIn. I believe our mutua\n",
      "no key error\n",
      "{'urn_id': 'ACoAACYpHe4BMXGUMKIHXTYYfl-ZJcXpA_UgNOk', 'distance': 'DISTANCE_3', 'public_id': 'zeineb-azzabi-97a4b215a', 'tracking_id': '640228846', 'jobtitle': \"Ingénieur d'affaires Talent Acquisition Specialist IT ( DevOps / GCP / Cloud /Prod / Architecture /Infra Linux/ DATA Engineer/Spark/ Scala/ DEV JAVA JEE/Angular/React) CDI/Freelance/Portage Salarial/Passeport Talent\", 'location': 'Île-de-France, France', 'name': 'Zeineb Azzabi'}\n",
      "Sure, here you go:\n",
      "\t\n",
      "Hi Zeineb, \n",
      "\n",
      "As a Statistics MSc graduate and experienced data scientist, I am highly interested in the field you work in. It would be great to connect with you on LinkedIn to learn more about the work you do and to explore any relevant opportunities that could be a good match. \n",
      "no key error\n",
      "{'urn_id': 'ACoAABeUPzIBwB3AjBd2hvZMPqGXEzbBUufGf8A', 'distance': 'DISTANCE_3', 'public_id': 'dino-makhloufi', 'tracking_id': '395591474', 'jobtitle': 'Senior Tech Recruiter chez Datanumia', 'location': 'Paris, Île-de-France, France', 'name': 'Dino Makhloufi'}\n",
      "Sure, here's a personalized message you can adapt based on the information provided:\n",
      "\n",
      "---\n",
      "\n",
      "Hi Dino,\n",
      "\n",
      "I stumbled upon your LinkedIn profile and was impressed by your experience in tech and recruitment. As a data scientist with an MSc in Statistics, I'm also looking for new job opportunities in transf\n"
     ]
    },
    {
     "ename": "KeyboardInterrupt",
     "evalue": "",
     "output_type": "error",
     "traceback": [
      "\u001b[0;31m---------------------------------------------------------------------------\u001b[0m",
      "\u001b[0;31mKeyboardInterrupt\u001b[0m                         Traceback (most recent call last)",
      "Input \u001b[0;32mIn [156]\u001b[0m, in \u001b[0;36m<cell line: 3>\u001b[0;34m()\u001b[0m\n\u001b[1;32m      5\u001b[0m \u001b[38;5;28mprint\u001b[39m(recruiter)\n\u001b[1;32m      7\u001b[0m \u001b[38;5;28;01mtry\u001b[39;00m:\n\u001b[0;32m----> 8\u001b[0m     current_connection \u001b[38;5;241m=\u001b[39m \u001b[43madd_gpt_personnalized_connection\u001b[49m\u001b[43m(\u001b[49m\u001b[43mrecruiter\u001b[49m\u001b[43m,\u001b[49m\u001b[43m \u001b[49m\u001b[43mreal_api\u001b[49m\u001b[43m)\u001b[49m\n\u001b[1;32m      9\u001b[0m     \u001b[38;5;28mprint\u001b[39m(\u001b[38;5;124m'\u001b[39m\u001b[38;5;124mno key error\u001b[39m\u001b[38;5;124m'\u001b[39m)\n\u001b[1;32m     11\u001b[0m \u001b[38;5;28;01mexcept\u001b[39;00m \u001b[38;5;167;01mKeyError\u001b[39;00m:    \u001b[38;5;66;03m# Happends when no summary or profile can't be found\u001b[39;00m\n",
      "Input \u001b[0;32mIn [153]\u001b[0m, in \u001b[0;36madd_gpt_personnalized_connection\u001b[0;34m(current_recruiter, api, message_quant, message_data, end_of_message)\u001b[0m\n\u001b[1;32m    131\u001b[0m     final_message \u001b[38;5;241m=\u001b[39m final_message[\u001b[38;5;241m0\u001b[39m:\u001b[38;5;241m300\u001b[39m] \n\u001b[1;32m    134\u001b[0m \u001b[38;5;28mprint\u001b[39m(final_message)\n\u001b[0;32m--> 136\u001b[0m connection \u001b[38;5;241m=\u001b[39m \u001b[43mapi\u001b[49m\u001b[38;5;241;43m.\u001b[39;49m\u001b[43madd_connection\u001b[49m\u001b[43m(\u001b[49m\u001b[43mcurrent_recruiter\u001b[49m\u001b[43m[\u001b[49m\u001b[38;5;124;43m'\u001b[39;49m\u001b[38;5;124;43mpublic_id\u001b[39;49m\u001b[38;5;124;43m'\u001b[39;49m\u001b[43m]\u001b[49m\u001b[43m,\u001b[49m\u001b[43m \u001b[49m\u001b[43mfinal_message\u001b[49m\u001b[43m)\u001b[49m\n\u001b[1;32m    138\u001b[0m \u001b[38;5;28;01mreturn\u001b[39;00m [sector, connection]\n",
      "File \u001b[0;32m~/Desktop/taf/linkedin_project/linkedin-api-find-a-job/linkedin_api/linkedin.py:1125\u001b[0m, in \u001b[0;36mLinkedin.add_connection\u001b[0;34m(self, profile_public_id, message, profile_urn)\u001b[0m\n\u001b[1;32m   1122\u001b[0m     \u001b[38;5;28;01mreturn\u001b[39;00m \u001b[38;5;28;01mFalse\u001b[39;00m\n\u001b[1;32m   1124\u001b[0m \u001b[38;5;28;01mif\u001b[39;00m \u001b[38;5;129;01mnot\u001b[39;00m profile_urn:\n\u001b[0;32m-> 1125\u001b[0m     profile_urn_string \u001b[38;5;241m=\u001b[39m \u001b[38;5;28;43mself\u001b[39;49m\u001b[38;5;241;43m.\u001b[39;49m\u001b[43mget_profile\u001b[49m\u001b[43m(\u001b[49m\u001b[43mpublic_id\u001b[49m\u001b[38;5;241;43m=\u001b[39;49m\u001b[43mprofile_public_id\u001b[49m\u001b[43m)\u001b[49m[\n\u001b[1;32m   1126\u001b[0m         \u001b[38;5;124m\"\u001b[39m\u001b[38;5;124mprofile_urn\u001b[39m\u001b[38;5;124m\"\u001b[39m\n\u001b[1;32m   1127\u001b[0m     ]\n\u001b[1;32m   1128\u001b[0m     \u001b[38;5;66;03m# Returns string of the form 'urn:li:fs_miniProfile:ACoAACX1hoMBvWqTY21JGe0z91mnmjmLy9Wen4w'\u001b[39;00m\n\u001b[1;32m   1129\u001b[0m     \u001b[38;5;66;03m# We extract the last part of the string\u001b[39;00m\n\u001b[1;32m   1130\u001b[0m     profile_urn \u001b[38;5;241m=\u001b[39m profile_urn_string\u001b[38;5;241m.\u001b[39msplit(\u001b[38;5;124m\"\u001b[39m\u001b[38;5;124m:\u001b[39m\u001b[38;5;124m\"\u001b[39m)[\u001b[38;5;241m-\u001b[39m\u001b[38;5;241m1\u001b[39m]\n",
      "File \u001b[0;32m~/Desktop/taf/linkedin_project/linkedin-api-find-a-job/linkedin_api/linkedin.py:620\u001b[0m, in \u001b[0;36mLinkedin.get_profile\u001b[0;34m(self, public_id, urn_id)\u001b[0m\n\u001b[1;32m    608\u001b[0m \u001b[38;5;124;03m\"\"\"Fetch data for a given LinkedIn profile.\u001b[39;00m\n\u001b[1;32m    609\u001b[0m \n\u001b[1;32m    610\u001b[0m \u001b[38;5;124;03m:param public_id: LinkedIn public ID for a profile\u001b[39;00m\n\u001b[0;32m   (...)\u001b[0m\n\u001b[1;32m    616\u001b[0m \u001b[38;5;124;03m:rtype: dict\u001b[39;00m\n\u001b[1;32m    617\u001b[0m \u001b[38;5;124;03m\"\"\"\u001b[39;00m\n\u001b[1;32m    618\u001b[0m \u001b[38;5;66;03m# NOTE this still works for now, but will probably eventually have to be converted to\u001b[39;00m\n\u001b[1;32m    619\u001b[0m \u001b[38;5;66;03m# https://www.linkedin.com/voyager/api/identity/profiles/ACoAAAKT9JQBsH7LwKaE9Myay9WcX8OVGuDq9Uw\u001b[39;00m\n\u001b[0;32m--> 620\u001b[0m res \u001b[38;5;241m=\u001b[39m \u001b[38;5;28;43mself\u001b[39;49m\u001b[38;5;241;43m.\u001b[39;49m\u001b[43m_fetch\u001b[49m\u001b[43m(\u001b[49m\u001b[38;5;124;43mf\u001b[39;49m\u001b[38;5;124;43m\"\u001b[39;49m\u001b[38;5;124;43m/identity/profiles/\u001b[39;49m\u001b[38;5;132;43;01m{\u001b[39;49;00m\u001b[43mpublic_id\u001b[49m\u001b[43m \u001b[49m\u001b[38;5;129;43;01mor\u001b[39;49;00m\u001b[43m \u001b[49m\u001b[43murn_id\u001b[49m\u001b[38;5;132;43;01m}\u001b[39;49;00m\u001b[38;5;124;43m/profileView\u001b[39;49m\u001b[38;5;124;43m\"\u001b[39;49m\u001b[43m)\u001b[49m\n\u001b[1;32m    622\u001b[0m data \u001b[38;5;241m=\u001b[39m res\u001b[38;5;241m.\u001b[39mjson()\n\u001b[1;32m    623\u001b[0m \u001b[38;5;28;01mif\u001b[39;00m data \u001b[38;5;129;01mand\u001b[39;00m \u001b[38;5;124m\"\u001b[39m\u001b[38;5;124mstatus\u001b[39m\u001b[38;5;124m\"\u001b[39m \u001b[38;5;129;01min\u001b[39;00m data \u001b[38;5;129;01mand\u001b[39;00m data[\u001b[38;5;124m\"\u001b[39m\u001b[38;5;124mstatus\u001b[39m\u001b[38;5;124m\"\u001b[39m] \u001b[38;5;241m!=\u001b[39m \u001b[38;5;241m200\u001b[39m:\n",
      "File \u001b[0;32m~/Desktop/taf/linkedin_project/linkedin-api-find-a-job/linkedin_api/linkedin.py:89\u001b[0m, in \u001b[0;36mLinkedin._fetch\u001b[0;34m(self, uri, evade, base_request, **kwargs)\u001b[0m\n\u001b[1;32m     87\u001b[0m \u001b[38;5;28;01mdef\u001b[39;00m \u001b[38;5;21m_fetch\u001b[39m(\u001b[38;5;28mself\u001b[39m, uri, evade\u001b[38;5;241m=\u001b[39mdefault_evade, base_request\u001b[38;5;241m=\u001b[39m\u001b[38;5;28;01mFalse\u001b[39;00m, \u001b[38;5;241m*\u001b[39m\u001b[38;5;241m*\u001b[39mkwargs):\n\u001b[1;32m     88\u001b[0m     \u001b[38;5;124;03m\"\"\"GET request to Linkedin API\"\"\"\u001b[39;00m\n\u001b[0;32m---> 89\u001b[0m     \u001b[43mevade\u001b[49m\u001b[43m(\u001b[49m\u001b[43m)\u001b[49m\n\u001b[1;32m     91\u001b[0m     url \u001b[38;5;241m=\u001b[39m \u001b[38;5;124mf\u001b[39m\u001b[38;5;124m\"\u001b[39m\u001b[38;5;132;01m{\u001b[39;00m\u001b[38;5;28mself\u001b[39m\u001b[38;5;241m.\u001b[39mclient\u001b[38;5;241m.\u001b[39mAPI_BASE_URL \u001b[38;5;28;01mif\u001b[39;00m \u001b[38;5;129;01mnot\u001b[39;00m base_request \u001b[38;5;28;01melse\u001b[39;00m \u001b[38;5;28mself\u001b[39m\u001b[38;5;241m.\u001b[39mclient\u001b[38;5;241m.\u001b[39mLINKEDIN_BASE_URL\u001b[38;5;132;01m}\u001b[39;00m\u001b[38;5;132;01m{\u001b[39;00muri\u001b[38;5;132;01m}\u001b[39;00m\u001b[38;5;124m\"\u001b[39m\n\u001b[1;32m     92\u001b[0m     \u001b[38;5;28;01mreturn\u001b[39;00m \u001b[38;5;28mself\u001b[39m\u001b[38;5;241m.\u001b[39mclient\u001b[38;5;241m.\u001b[39msession\u001b[38;5;241m.\u001b[39mget(url, \u001b[38;5;241m*\u001b[39m\u001b[38;5;241m*\u001b[39mkwargs)\n",
      "File \u001b[0;32m~/Desktop/taf/linkedin_project/linkedin-api-find-a-job/linkedin_api/linkedin.py:37\u001b[0m, in \u001b[0;36mdefault_evade\u001b[0;34m()\u001b[0m\n\u001b[1;32m     32\u001b[0m \u001b[38;5;28;01mdef\u001b[39;00m \u001b[38;5;21mdefault_evade\u001b[39m():\n\u001b[1;32m     33\u001b[0m     \u001b[38;5;124;03m\"\"\"\u001b[39;00m\n\u001b[1;32m     34\u001b[0m \u001b[38;5;124;03m    A catch-all method to try and evade suspension from Linkedin.\u001b[39;00m\n\u001b[1;32m     35\u001b[0m \u001b[38;5;124;03m    Currenly, just delays the request by a random (bounded) time\u001b[39;00m\n\u001b[1;32m     36\u001b[0m \u001b[38;5;124;03m    \"\"\"\u001b[39;00m\n\u001b[0;32m---> 37\u001b[0m     \u001b[43msleep\u001b[49m\u001b[43m(\u001b[49m\u001b[43mrandom\u001b[49m\u001b[38;5;241;43m.\u001b[39;49m\u001b[43mrandint\u001b[49m\u001b[43m(\u001b[49m\u001b[38;5;241;43m2\u001b[39;49m\u001b[43m,\u001b[49m\u001b[43m \u001b[49m\u001b[38;5;241;43m5\u001b[39;49m\u001b[43m)\u001b[49m\u001b[43m)\u001b[49m\n",
      "\u001b[0;31mKeyboardInterrupt\u001b[0m: "
     ]
    }
   ],
   "source": [
    "# Pipeline with my real account\n",
    "\n",
    "for recruiter in search_quant[10:20]:\n",
    "    \n",
    "    print(recruiter)\n",
    "    \n",
    "    try:\n",
    "        current_connection = add_gpt_personnalized_connection(recruiter, real_api)\n",
    "        print('no key error')\n",
    "        \n",
    "    except KeyError:    # Happends when no summary or profile can't be found\n",
    "        print('key error')\n",
    "        continue\n",
    "    \n",
    "    connections.append(current_connection)\n",
    "    \n",
    "    if(current_connection[0] == 'finance'):\n",
    "        quant_recruiter += 1\n",
    "    if(current_connection[0] == 'data'):\n",
    "        data_recruiter += 1\n",
    "    else:\n",
    "        na_recruiter += 1"
   ]
  },
  {
   "cell_type": "code",
   "execution_count": 158,
   "id": "5c34ffc2",
   "metadata": {},
   "outputs": [
    {
     "name": "stdout",
     "output_type": "stream",
     "text": [
      "{'urn_id': 'ACoAAAoJMUcBVFSXLQVBgpB7-fazv42w-EhaE7c', 'distance': 'OUT_OF_NETWORK', 'public_id': 'monikamimrova', 'tracking_id': '168374599', 'jobtitle': 'Senior Recruiter / Executive Search / Retained Search / Tech / Green / Crypto / Finance / AI / Startup / RPO', 'location': 'Prague, Czechia', 'name': 'Monika Mimrova'}\n",
      "Here's a personalized message to Monika:\n",
      "\n",
      "Hi Monika,\n",
      "\n",
      "I came across your profile and noticed that you have vast experience in recruiting candidates all over Europe and other continents. As a data scientist with an MSc in Statistics, I believe my experience and qualifications make me a suitable fit f\n",
      "no key error\n"
     ]
    }
   ],
   "source": [
    "# Pipeline with my test account\n",
    "\n",
    "for recruiter in [test_search[20]]:\n",
    "    \n",
    "    print(recruiter)\n",
    "    \n",
    "    try:\n",
    "        current_connection = add_gpt_personnalized_connection(recruiter, test_api)\n",
    "        print('no key error')\n",
    "        \n",
    "    except KeyError:    # Happends when no summary or profile can't be found\n",
    "        print('key error')\n",
    "        continue\n",
    "        \n",
    "        \n",
    "    connections.append(current_connection)\n",
    "    \n",
    "    if(current_connection[0] == 'finance'):\n",
    "        quant_recruiter += 1\n",
    "    if(current_connection[0] == 'data'):\n",
    "        data_recruiter += 1\n",
    "    else:\n",
    "        na_recruiter += 1"
   ]
  },
  {
   "cell_type": "code",
   "execution_count": 163,
   "id": "e70d60ae",
   "metadata": {},
   "outputs": [],
   "source": [
    "#test_api.get_profile('evan-robertson-10348869')"
   ]
  },
  {
   "cell_type": "code",
   "execution_count": null,
   "id": "446a7c81",
   "metadata": {},
   "outputs": [],
   "source": [
    "current_connection = test_add_personnalized_connection(recruiter, test_api)\n",
    "connections.append(current_connection, test_api)\n",
    "\n",
    "if(current_connection[0] == 'finance'):\n",
    "    quant_recruiter += 1\n",
    "if(current_connection[0] == 'data'):\n",
    "    data_recruiter += 1\n",
    "else:\n",
    "    na_recruiter += 1"
   ]
  },
  {
   "cell_type": "code",
   "execution_count": 111,
   "id": "4e7e2f84",
   "metadata": {},
   "outputs": [
    {
     "data": {
      "text/plain": [
       "1"
      ]
     },
     "execution_count": 111,
     "metadata": {},
     "output_type": "execute_result"
    }
   ],
   "source": [
    "quant_recruiter"
   ]
  },
  {
   "cell_type": "markdown",
   "id": "00bbc4ad",
   "metadata": {},
   "source": [
    "# Work to get optimzed messages"
   ]
  },
  {
   "cell_type": "code",
   "execution_count": 12,
   "id": "237c0a71",
   "metadata": {},
   "outputs": [],
   "source": [
    "import openai"
   ]
  },
  {
   "cell_type": "code",
   "execution_count": 165,
   "id": "9bc0b453",
   "metadata": {},
   "outputs": [],
   "source": [
    "openai.api_key = open_file('open_ai_key.txt')[2:-2]"
   ]
  },
  {
   "cell_type": "code",
   "execution_count": 86,
   "id": "3bbd420f",
   "metadata": {},
   "outputs": [],
   "source": [
    "mess_quant = \"graduate from an MSc in Statistics and Quantitative Finance. An experience as a data scientist, looking for an opportunity as a quant\"\n",
    "mess_data = \"graduate from an MSc in Statistics. An experience as a data scientist, looking for a new opportunity, data-driven.\""
   ]
  },
  {
   "cell_type": "code",
   "execution_count": 76,
   "id": "b11cc145",
   "metadata": {},
   "outputs": [],
   "source": [
    "def gpt3_chat(message: str, messages:list[dict])-> tuple[str, list]:\n",
    "    '''Returns GPT's response to the input message and appends it to the messages list'''\n",
    "    messages.append({\"role\": \"user\", \"content\": message})\n",
    "    # ChatGPT is powered by gpt-3.5-turbo, OpenAI’s most advanced language model.\n",
    "    response = openai.ChatCompletion.create(model=\"gpt-3.5-turbo\", messages=messages)['choices'][0]['message']['content']\n",
    "    messages.append({\"role\": \"assistant\", \"content\": response})\n",
    "    return str(response), messages"
   ]
  },
  {
   "cell_type": "code",
   "execution_count": 372,
   "id": "48334e68",
   "metadata": {},
   "outputs": [],
   "source": [
    "def get_completion(prompt, model=\"gpt-3.5-turbo\"): # Andrew mentioned that the prompt/ completion paradigm is preferable for this class\n",
    "    messages = [{\"role\": \"user\", \"content\": prompt}]\n",
    "    response = openai.ChatCompletion.create(\n",
    "        model=model,\n",
    "        messages=messages,\n",
    "        temperature=0, # this is the degree of randomness of the model's output\n",
    "    )\n",
    "    return response.choices[0].message[\"content\"]"
   ]
  },
  {
   "cell_type": "markdown",
   "id": "9d316607",
   "metadata": {},
   "source": [
    "test = test_api.get_profile(search_quant[7]['public_id'])\n",
    "test['summary'][0:500]"
   ]
  },
  {
   "cell_type": "code",
   "execution_count": 102,
   "id": "61ff2694",
   "metadata": {},
   "outputs": [
    {
     "name": "stdout",
     "output_type": "stream",
     "text": [
      "\"Your extensive experience in financial services as a specialist executive recruiter caught my attention. I would greatly appreciate connecting with you to discuss potential opportunities as a quant. Thank you for your time.\"\n"
     ]
    }
   ],
   "source": [
    "discussion = [\n",
    "        {\"role\": \"system\", \"content\": \"You are a helpful assistant that personalize generic message asking for a connection on linkedin to headhunters from their summary in no more than 300 character.\"},\n",
    "        {\"role\": \"user\", \"content\": f\"Here is the generic message : <<{mess}>>\"},\n",
    "        {\"role\": \"assistant\", \"content\": \"What is the summary from the headhunter?\"},\n",
    "        {\"role\": \"user\", \"content\": f\"Here is the summary from his profile : <<{test['summary']}>>\"},\n",
    "        {\"role\": \"assistant\", \"content\": \"What is the expected output format?\"},        \n",
    "]\n",
    "\n",
    "\n",
    "message_prompt = \"No more than 240 character. Just the motivation part, no intro or outro. Don't say hello. Do it now.\"\n",
    "answer, discussion = gpt3_chat(message=message_prompt, messages=discussion)\n",
    "print(answer)\n",
    "answers.append([answer, discussion])"
   ]
  },
  {
   "cell_type": "code",
   "execution_count": null,
   "id": "467f891c",
   "metadata": {},
   "outputs": [],
   "source": [
    "response = openai.ChatCompletion.create(\n",
    "  model=\"gpt-3.5-turbo\",\n",
    "  messages=[\n",
    "        {\"role\": \"system\", \"content\": \"You are a helpful assistant that personalize generic message asking for a connection on linkedin to headhunters from their summary.\"},\n",
    "        {\"role\": \"user\", \"content\": f\"Here is the generic message : <<{mess}>>\"},\n",
    "        {\"role\": \"assistant\", \"content\": \"What is the summary from the headhunter?\"},\n",
    "        {\"role\": \"user\", \"content\": f\"Here is the summary from his profile : <<{prof['summary']}>>\"},\n",
    "        {\"role\": \"assistant\", \"content\": \"What is the expected output format?\"},        \n",
    "    ]\n",
    ")\n",
    "\n",
    "experience_prompt = \"A motivation message in no more than 50 words to invite the headhunter to contact me if he sees a fit. Do it now.\"\n",
    "experience, cv_discussion = utils.gpt3_chat(message=experience_prompt, messages=cv_discussion)\n",
    "print(experience)"
   ]
  },
  {
   "cell_type": "markdown",
   "id": "ee975005",
   "metadata": {},
   "source": [
    "# Work to find optimal job posts\n",
    "\n",
    "- When an interesting job is found, we want to connect with the recruiter but we can't get his profile from the get_job() func already implemented\n",
    "- We will try to add a func to the class linkedin to get this data"
   ]
  },
  {
   "cell_type": "code",
   "execution_count": 209,
   "id": "c956e10d",
   "metadata": {},
   "outputs": [
    {
     "name": "stdout",
     "output_type": "stream",
     "text": [
      "in test_job\n"
     ]
    }
   ],
   "source": [
    "test_job = test_api.test_get_job(jobs[0]['entityUrn'].split(\":\")[3])"
   ]
  },
  {
   "cell_type": "code",
   "execution_count": null,
   "id": "b1a82813",
   "metadata": {},
   "outputs": [],
   "source": [
    "def search_jobs(\n",
    "        self,\n",
    "        keywords=None,\n",
    "        companies=None,\n",
    "        experience=None,\n",
    "        job_type=None,\n",
    "        job_title=None,\n",
    "        industries=None,\n",
    "        location_name=None,\n",
    "        remote=False,\n",
    "        listed_at=24 * 60 * 60,\n",
    "        distance=None,\n",
    "        limit=-1,\n",
    "        offset=0,\n",
    "        **kwargs,\n",
    "    )"
   ]
  },
  {
   "cell_type": "code",
   "execution_count": 170,
   "id": "73721527",
   "metadata": {},
   "outputs": [],
   "source": [
    "jobs = test_api.search_jobs(keywords = 'data', limit = 5)"
   ]
  },
  {
   "cell_type": "markdown",
   "id": "9a9f657d",
   "metadata": {},
   "source": [
    "# Work with the package selenium to fetch data from recruiter"
   ]
  },
  {
   "cell_type": "code",
   "execution_count": 222,
   "id": "b8416c14",
   "metadata": {},
   "outputs": [],
   "source": [
    "import selenium\n",
    "import time\n",
    "from selenium import webdriver\n",
    "from selenium.webdriver.common.by import By\n",
    "from selenium.webdriver.common.keys import Keys\n",
    "import unittest\n"
   ]
  },
  {
   "cell_type": "code",
   "execution_count": 296,
   "id": "02aaf772",
   "metadata": {},
   "outputs": [],
   "source": [
    "def connect_firefox_to_my_linkedin(credentials):\n",
    "    \n",
    "    browser = webdriver.Firefox()\n",
    "\n",
    "    # your secret credentials:\n",
    "    email = credentials[0]\n",
    "    password = credentials[1]\n",
    "    # Go to linkedin and login\n",
    "    browser.get('https://www.linkedin.com/login')\n",
    "    time.sleep(3)\n",
    "    browser.find_element(by =By.ID, value ='username').send_keys(email)\n",
    "    browser.find_element(by =By.ID, value ='password').send_keys(password)\n",
    "    browser.find_element(by =By.ID, value ='password').send_keys(Keys.RETURN)\n",
    "    \n",
    "    time.sleep(3)\n",
    "    \n",
    "    return browser\n",
    "\n",
    "\n",
    "def get_recruiter_id_from_job(browser, job_id):\n",
    "    \n",
    "    browser.get(f\"https://www.linkedin.com/jobs/view/{job_id}\")\n",
    "\n",
    "    time.sleep(2)\n",
    "    \n",
    "    sele_search = browser.find_elements(by=By.CLASS_NAME, value=\"mh4.pt4.pb3\")\n",
    "    \n",
    "    if(len(sele_search) == 0):\n",
    "        return False\n",
    "    \n",
    "    recruiter_public_id = sele_search[0].find_element(by=By.CSS_SELECTOR,value ='a').get_attribute('href').split('/')[-1]\n",
    "    \n",
    "    return recruiter_public_id"
   ]
  },
  {
   "cell_type": "code",
   "execution_count": 291,
   "id": "d36a1e0b",
   "metadata": {},
   "outputs": [],
   "source": [
    "browser = connect_firefox_to_my_linkedin(test_credential)\n",
    "get_id = get_recruiter_id_from_job(browser, \"3583408428\")"
   ]
  },
  {
   "cell_type": "markdown",
   "id": "d3bfcda3",
   "metadata": {},
   "source": [
    "# Work to link our message to a collab sheet\n",
    "\n",
    "https://towardsdatascience.com/turn-google-sheets-into-your-own-database-with-python-4aa0b4360ce7"
   ]
  },
  {
   "cell_type": "code",
   "execution_count": 309,
   "id": "952c46d6",
   "metadata": {},
   "outputs": [],
   "source": [
    "import gspread\n",
    "from oauth2client.service_account import ServiceAccountCredentials\n",
    "import pandas as pd\n",
    "\n",
    "# attributes that can be of use :\n",
    "#    - sheet.get_all_values()\n",
    "#    - sheet.row_values(n) n:int"
   ]
  },
  {
   "cell_type": "code",
   "execution_count": 416,
   "id": "04f91088",
   "metadata": {},
   "outputs": [],
   "source": [
    "def add_new_row(sheet, row_to_insert):\n",
    "    \n",
    "    current_number_rows = len(sheet.get_all_values())\n",
    "    sheet.insert_row(row_to_insert, current_number_rows + 1)\n",
    "\n",
    "    return True\n",
    "\n",
    "def delete_last_row(sheet):\n",
    "    \n",
    "    current_number_rows = len(sheet.get_all_values())\n",
    "    sheet.delete_rows(current_number_rows)\n",
    "    \n",
    "    return True\n",
    "\n",
    "\n",
    "def create_sheet(sheet_name, mail):\n",
    "    \n",
    "    scope = ['https://www.googleapis.com/auth/spreadsheets',\n",
    "         \"https://www.googleapis.com/auth/drive\"]\n",
    "\n",
    "    credentials = ServiceAccountCredentials.from_json_keyfile_name(\"gs_credentials.json\", scope)\n",
    "    client = gspread.authorize(credentials)\n",
    "\n",
    "    sheet = client.create(sheet_name)\n",
    "    sheet.share(mail, perm_type='user', role='writer')\n",
    "    \n",
    "    return sheet\n",
    "\n",
    "\n",
    "def connect_to_sheet(sheet_name):\n",
    "    \n",
    "    scope = ['https://www.googleapis.com/auth/spreadsheets',\n",
    "            \"https://www.googleapis.com/auth/drive\"]\n",
    "\n",
    "    credentials = ServiceAccountCredentials.from_json_keyfile_name(\"gs_credentials.json\", scope)\n",
    "    client = gspread.authorize(credentials)\n",
    "    \n",
    "    sheet = client.open(sheet_name).sheet1\n",
    "    \n",
    "    return sheet"
   ]
  },
  {
   "cell_type": "code",
   "execution_count": 353,
   "id": "8ae99965",
   "metadata": {},
   "outputs": [],
   "source": [
    "sheet = connect_to_sheet(\"messages_sent\")"
   ]
  },
  {
   "cell_type": "markdown",
   "id": "bd2033e1",
   "metadata": {},
   "source": [
    "# Pipeline to dm recruiters from job post"
   ]
  },
  {
   "cell_type": "markdown",
   "id": "f4577c3e",
   "metadata": {},
   "source": [
    "### extract job title"
   ]
  },
  {
   "cell_type": "code",
   "execution_count": 415,
   "id": "53f0c916",
   "metadata": {},
   "outputs": [],
   "source": [
    "import json\n",
    "\n",
    "def json_to_dict(json_string):\n",
    "    \"\"\"Converts a JSON-formatted string to a Python dictionary.\"\"\"\n",
    "    return json.loads(json_string)\n",
    "\n",
    "def gpt_extract_job_function_from_title(job_title):\n",
    "\n",
    "    prompt = f\"\"\"\n",
    "    Your task is to extract the job title from a job post title. \\\n",
    "    We just want to keep the job function, no more than 3 words.\n",
    "    Provide it in JSON format with the key: job_title \n",
    "\n",
    "    Job post title: ```{job_title}```\n",
    "    \"\"\"\n",
    "\n",
    "    response = get_completion(prompt)\n",
    "    response = json_to_dict(response)\n",
    "    \n",
    "    return response\n",
    "\n",
    "\n",
    "def add_easy_connection_from_recruiter_job_post(recruiter_id, api):\n",
    "    \n",
    "    message = \"\"\n",
    "    \n",
    "    current_recruiter = api.get_profile(recruiter_id)\n",
    "\n",
    "    first_name = get_first_name_fetched_profile(current_recruiter)\n",
    "    print(first_name)\n",
    "    \n",
    "    is_french = is_profile_fetched_french(current_recruiter)\n",
    "    print(is_french)\n",
    "    \n",
    "    sector = is_profile_data_or_finance(current_recruiter)\n",
    "    print(sector)\n",
    "\n",
    "    if(is_french):\n",
    "        print(\"french\")\n",
    "        \n",
    "    else:\n",
    "        \n",
    "        if(sector == 'finance'):\n",
    "            message = \"Hello \" + first_name + \"\\n\" + message_quant + \"\\n\" + end_of_message\n",
    "\n",
    "        else:\n",
    "            message = \"Hello \" + first_name + \"\\n\" + message_data + \"\\n\" + end_of_message\n",
    "\n",
    "\n",
    "    connection = api.add_connection(current_recruiter['public_id'], message)\n",
    "    \n",
    "    return [sector, connection]\n",
    "\n",
    "\n",
    "def create_message_for_recruiter_from_job(recruiter_profile_id, job_title, api = test_api):\n",
    "    \n",
    "    recruiter = api.get_profile(recruiter_profile_id)\n",
    "    first_name = recruiter['firstName']\n",
    "    \n",
    "    if(first_name):\n",
    "        \n",
    "        message = \"Hello \"+ first_name + \", \\n\" + \"I am a graduate from an Msc in Statistics with an experience\" \\\n",
    "                  + \"as a Data Scientist and I came across your job post for a \" + job_title \\\n",
    "                  + \" role. I am very interested in this opportunity and would love to learn more about the position.\"\n",
    "\n",
    "    else:\n",
    "        \n",
    "        message = \"Hello, I am a graduate from an Msc in Statistics with an experience\" \\\n",
    "                  + \"as a Data Scientist and I came across your job post for a \" + job_title \\\n",
    "                  + \" role. I am very interested in this opportunity and would love to learn more about the position.\"\n",
    "\n",
    "    \n",
    "    return message"
   ]
  },
  {
   "cell_type": "code",
   "execution_count": 355,
   "id": "3149fe4e",
   "metadata": {},
   "outputs": [],
   "source": [
    "jobs = test_api.search_jobs(keywords = 'data analyst', limit = 100)\n",
    "\n",
    "browser = connect_firefox_to_my_linkedin(test_credential)"
   ]
  },
  {
   "cell_type": "code",
   "execution_count": 413,
   "id": "d47b0ab0",
   "metadata": {},
   "outputs": [],
   "source": [
    "no_id = 0\n",
    "\n",
    "for job in jobs[0:10]:\n",
    "    \n",
    "    current_job_id = job['entityUrn'].split(\":\")[3]\n",
    "    recruiter_id = get_recruiter_id_from_job(browser, current_job_id)\n",
    "    \n",
    "    if(recruiter_id):\n",
    "        \n",
    "        job_title = job['title']\n",
    "        job_title = gpt_extract_job_function_from_title(job_title)['job_title']\n",
    "        \n",
    "        message = create_message_for_recruiter_from_job(recruiter_id, job_title)\n",
    "        \n",
    "        connection = test_api.add_connection(recruiter_id, message)\n",
    "        \n",
    "        add_new_row(sheet, [current_job_id, recruiter_id, message])\n",
    "    \n",
    "    else:\n",
    "        print(\"can't get id\")\n",
    "        no_id += 1\n",
    "        \n",
    "    \n",
    "    \n",
    "    \n",
    "        "
   ]
  }
 ],
 "metadata": {
  "kernelspec": {
   "display_name": "Python 3 (ipykernel)",
   "language": "python",
   "name": "python3"
  },
  "language_info": {
   "codemirror_mode": {
    "name": "ipython",
    "version": 3
   },
   "file_extension": ".py",
   "mimetype": "text/x-python",
   "name": "python",
   "nbconvert_exporter": "python",
   "pygments_lexer": "ipython3",
   "version": "3.9.10"
  }
 },
 "nbformat": 4,
 "nbformat_minor": 5
}
