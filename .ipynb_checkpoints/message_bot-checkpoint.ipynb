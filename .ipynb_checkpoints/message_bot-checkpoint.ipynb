{
 "cells": [
  {
   "cell_type": "markdown",
   "id": "2df7671a",
   "metadata": {},
   "source": [
    "# Read Me\n",
    "\n",
    "This project uses linkedin to send automatic messages in order to find a job faster\n",
    "\n",
    "### Goals of the project\n",
    "- Finding recruiters and people working in the industry i want and send them appropriate messages (adding the possibility to schedule a meeting with me on my personnal calendar ?\n",
    "- Apply to the positions that fits my criteria (only working for simplified job apply imo)\n"
   ]
  },
  {
   "cell_type": "code",
   "execution_count": 31,
   "id": "2aa805b3",
   "metadata": {},
   "outputs": [],
   "source": [
    "from linkedin_api import Linkedin\n",
    "from linkedin_api.utils.helpers import get_id_from_urn"
   ]
  },
  {
   "cell_type": "code",
   "execution_count": 12,
   "id": "f1cb67e3",
   "metadata": {},
   "outputs": [],
   "source": [
    "# Authenticate using any Linkedin account credentials\n",
    "\n",
    "\n",
    "\n",
    "test_api = Linkedin('****@**', '****')\n",
    "real_api = Linkedin('****@**', '****')\n",
    "\n",
    "# GET a profile\n",
    "#profile = api.get_profile('billy-g')\n",
    "\n",
    "# GET a profiles contact info\n",
    "#contact_info = api.get_profile_contact_info('billy-g')\n",
    "\n",
    "# GET 1st degree connections of a given profile    USE URN ID\n",
    "#connections = api.get_profile_connections('1234asc12304')\n"
   ]
  },
  {
   "cell_type": "markdown",
   "id": "eb1391fa",
   "metadata": {},
   "source": [
    "# First part : finding recruiters and sending them invite with personnal messages\n",
    "\n",
    "- First dichotomy, from their summary we try to define if they are in the quant finance or in the tech sector to send the more accurate message\n",
    "\n",
    "- Second one, if they are based in France we send our message in French\n",
    "\n",
    "- To get better results we could developp a rating on how much we would be interested in each profile"
   ]
  },
  {
   "cell_type": "code",
   "execution_count": 162,
   "id": "da744e34",
   "metadata": {},
   "outputs": [],
   "source": [
    "def is_profile_data_or_finance(profile, data_keywords = ['tech','data','engineer', 'analyst', 'analytics'] , quant_finance_keywords = ['quantitative', 'finance', 'fintech', 'financial', 'hft', 'hedge', 'asset']):\n",
    "    \n",
    "    count_data = 0\n",
    "    count_quant = 0\n",
    "    \n",
    "    # Some recruiters don't have a summary, in this case we take the title\n",
    "    try:\n",
    "        summary = profile['summary'].lower()\n",
    "\n",
    "    except KeyError:\n",
    "        summary = profile['headline'].lower()\n",
    "        \n",
    "    summary = summary.split(\" \")\n",
    "    \n",
    "    for word in summary:\n",
    "        \n",
    "        if(word in data_keywords):\n",
    "            count_data += 1\n",
    "            \n",
    "        if(word in quant_finance_keywords):\n",
    "            count_quant += 1\n",
    "            \n",
    "    if(count_quant > count_data):\n",
    "        return 'finance'\n",
    "    \n",
    "    if(count_data > 0):\n",
    "        return 'data'\n",
    "    \n",
    "    return 'NA'\n",
    "\n",
    "\n",
    "def is_profile_fetched_french(profile, france_keywords = ['france', 'paris', 'île-de-france']):\n",
    "    \n",
    "    try:\n",
    "        location = profile['location'].lower()\n",
    "        \n",
    "    except KeyError:\n",
    "        return False\n",
    "    \n",
    "    for keyword in france_keywords:\n",
    "        if(keyword in location):\n",
    "            return True\n",
    "    \n",
    "    return False\n",
    "\n",
    "\n",
    "def get_first_name_fetched_profile(profile):\n",
    "    \n",
    "    try:\n",
    "        first_name = profile['name'].split(\" \")[0]\n",
    "    \n",
    "    except:\n",
    "        return False\n",
    "    return first_name\n",
    "\n",
    "\n",
    "\n",
    "def add_personnalized_connection(current_recruiter, api = test_api, message_quant = message_quant,\n",
    "                                 message_data = message_data, end_of_message = end_of_message):\n",
    "\n",
    "    message = \"\"\n",
    "\n",
    "    first_name = get_first_name_fetched_profile(current_recruiter)\n",
    "    is_french = is_profile_fetched_french(current_recruiter)\n",
    "    current_profile = test_api.get_profile(current_recruiter['public_id'])\n",
    "    sector = is_profile_data_or_finance(current_profile)\n",
    "\n",
    "\n",
    "    if(sector == 'finance'):\n",
    "        message = \"Hello \" + first_name + \"\\n\" + message_quant + \"\\n\" + end_of_message\n",
    "\n",
    "    elif(sector == 'data'):\n",
    "        message = \"Hello \" + first_name + \"\\n\" + message_data + \"\\n\" + end_of_message\n",
    "\n",
    "    else:  \n",
    "        return \"na_recruiter\"\n",
    "\n",
    "    connection = test_api.add_connection(current_recruiter['public_id'], message)\n",
    "    \n",
    "    return [sector, connection]"
   ]
  },
  {
   "cell_type": "code",
   "execution_count": 117,
   "id": "6a11b7b4",
   "metadata": {},
   "outputs": [],
   "source": [
    "message_data = \"I'm a graduate from an MSc in Statistcs from Université PSL in Paris, \" \\\n",
    "    + \"after a year of experience as a Data Scientist, I am looking for\" \\\n",
    "    + \"a new opportunity in this sector.\"   \n",
    "\n",
    "message_quant = \"I'm a graduate from an MSc in Statistcs and Quantitative Finance from Université \" \\\n",
    "    + \"PSL in Paris, after a year of experience as a Data Scientist, I am now looking to\" \\\n",
    "    + \"work as a Quant.\"  \n",
    "\n",
    "end_of_message = \"Feel free to contact me if you see a possible fit !\"\n",
    "\n",
    "\n",
    "data_recruiter = 0\n",
    "quant_recruiter = 0\n",
    "na_recruiter = 0\n",
    "\n",
    "connections = []\n",
    "\n"
   ]
  },
  {
   "cell_type": "code",
   "execution_count": null,
   "id": "567fd0f6",
   "metadata": {},
   "outputs": [],
   "source": [
    "search_quant = real_api.search_people(keywords = 'quantitative finance', keyword_title = 'recruiter')"
   ]
  },
  {
   "cell_type": "code",
   "execution_count": null,
   "id": "4b809432",
   "metadata": {},
   "outputs": [],
   "source": [
    "for recruiter in search_quant:\n",
    "    \n",
    "    current_connection = test_add_personnalized_connection(recruiter, test_api)\n",
    "    connections.append(current_connection, test_api)\n",
    "    \n",
    "    if(current_connection[0] == 'finance'):\n",
    "        quant_recruiter += 1\n",
    "    if(current_connection[0] == 'data'):\n",
    "        data_recruiter += 1\n",
    "    else:\n",
    "        na_recruiter += 1"
   ]
  },
  {
   "cell_type": "code",
   "execution_count": 163,
   "id": "6f2c6996",
   "metadata": {},
   "outputs": [],
   "source": [
    "#test_api.get_profile('evan-robertson-10348869')"
   ]
  },
  {
   "cell_type": "code",
   "execution_count": null,
   "id": "3cadd5d8",
   "metadata": {},
   "outputs": [],
   "source": []
  }
 ],
 "metadata": {
  "kernelspec": {
   "display_name": "Python 3 (ipykernel)",
   "language": "python",
   "name": "python3"
  },
  "language_info": {
   "codemirror_mode": {
    "name": "ipython",
    "version": 3
   },
   "file_extension": ".py",
   "mimetype": "text/x-python",
   "name": "python",
   "nbconvert_exporter": "python",
   "pygments_lexer": "ipython3",
   "version": "3.9.10"
  }
 },
 "nbformat": 4,
 "nbformat_minor": 5
}
